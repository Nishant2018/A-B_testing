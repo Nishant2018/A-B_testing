{
 "cells": [
  {
   "cell_type": "code",
   "execution_count": 2,
   "id": "3aef74f7-53c2-40e6-b655-e51ec5276b39",
   "metadata": {},
   "outputs": [
    {
     "name": "stdout",
     "output_type": "stream",
     "text": [
      "Z-statistic: -0.5340277604223278\n",
      "P-value: 0.5933223278411672\n",
      "\n",
      "The difference in conversion rates between the two variants is not statistically significant.\n"
     ]
    }
   ],
   "source": [
    "import numpy as np\n",
    "import statsmodels.api as sm\n",
    "\n",
    "# Example data (conversion counts for two variants)\n",
    "variant_A_conversions = 200   # Number of conversions for variant A\n",
    "variant_A_visitors = 1000     # Number of visitors for variant A\n",
    "variant_B_conversions = 220   # Number of conversions for variant B\n",
    "variant_B_visitors = 1050     # Number of visitors for variant B\n",
    "\n",
    "# Perform hypothesis test (two-sample z-test for proportions)\n",
    "z_stat, p_value = sm.stats.proportions_ztest([variant_A_conversions, variant_B_conversions],\n",
    "                                              [variant_A_visitors, variant_B_visitors])\n",
    "\n",
    "# Print test results\n",
    "print(\"Z-statistic:\", z_stat)\n",
    "print(\"P-value:\", p_value)\n",
    "\n",
    "# Compare p-value to significance level (e.g., 0.05)\n",
    "if p_value < 0.05:\n",
    "    print(\"\\nThe difference in conversion rates between the two variants is statistically significant.\")\n",
    "else:\n",
    "    print(\"\\nThe difference in conversion rates between the two variants is not statistically significant.\")\n"
   ]
  },
  {
   "cell_type": "code",
   "execution_count": null,
   "id": "860de053-1b1b-4c06-bbcf-d0b3f02f68da",
   "metadata": {},
   "outputs": [],
   "source": []
  }
 ],
 "metadata": {
  "kernelspec": {
   "display_name": "Python 3 (ipykernel)",
   "language": "python",
   "name": "python3"
  },
  "language_info": {
   "codemirror_mode": {
    "name": "ipython",
    "version": 3
   },
   "file_extension": ".py",
   "mimetype": "text/x-python",
   "name": "python",
   "nbconvert_exporter": "python",
   "pygments_lexer": "ipython3",
   "version": "3.9.13"
  }
 },
 "nbformat": 4,
 "nbformat_minor": 5
}
